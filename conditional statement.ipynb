{
 "cells": [
  {
   "cell_type": "code",
   "execution_count": 1,
   "id": "e8184974-9571-4a6d-8231-ed56c32741bb",
   "metadata": {},
   "outputs": [
    {
     "name": "stdout",
     "output_type": "stream",
     "text": [
      "THE NUMBER IS POSITIVE.\n"
     ]
    }
   ],
   "source": [
    "#TO CHECK IF A NUMBER IS POSITIVE,NEGATVE OR ZERO\n",
    "num = 15\n",
    "if num>0:\n",
    "    print('THE NUMBER IS POSITIVE.')\n",
    "elif num<0:\n",
    "    print('THE NUMBER IS NEGATIVE.')\n",
    "else:\n",
    "    print('THE NUMBER IS ZERO.')"
   ]
  },
  {
   "cell_type": "code",
   "execution_count": 3,
   "id": "4850b2b1-ba92-4862-bb67-2c36be01d0ac",
   "metadata": {},
   "outputs": [
    {
     "name": "stdout",
     "output_type": "stream",
     "text": [
      "IT IS NOT A LEAP YEAR.\n"
     ]
    }
   ],
   "source": [
    "# TO CHECK IF A YEAR IS A LEAP YEAR\n",
    "year = 1900\n",
    "if (year % 4==0 and year % 100 != 0 ) or (year % 400 == 0):\n",
    "    print('IT IS A LEAP YEAR.')\n",
    "else:\n",
    "    print('IT IS NOT A LEAP YEAR.')"
   ]
  },
  {
   "cell_type": "code",
   "execution_count": 7,
   "id": "d6c007d9-0fd8-47a3-98ba-548e2a0df6bf",
   "metadata": {},
   "outputs": [
    {
     "name": "stdout",
     "output_type": "stream",
     "text": [
      "468\n"
     ]
    }
   ],
   "source": [
    "# SIMPLE CALCULATOR PROGRAM\n",
    "num1 = 26\n",
    "num2 = 18\n",
    "operator = '*'  #CHOOSE THE OPERATOR(+,-,/,*) IN WHICH YOU WANT THE ANSWER\n",
    "if operator == '+':\n",
    "    print(num1 + num2)\n",
    "elif operator == '-':\n",
    "    print(num1 - num2)\n",
    "elif operator == '*':\n",
    "    print(num1 * num2)\n",
    "elif operator == '/':\n",
    "    print(num1 / num2)\n",
    "else:\n",
    "    print(\"INVALID OPERATOR\")\n",
    "\n"
   ]
  },
  {
   "cell_type": "code",
   "execution_count": 10,
   "id": "bce394a8-5cb3-47a3-b1f0-226b997d161d",
   "metadata": {},
   "outputs": [
    {
     "name": "stdout",
     "output_type": "stream",
     "text": [
      "GRADE:B\n"
     ]
    }
   ],
   "source": [
    "# PROGRAM TO FIND GRADE BASED ON MARKS\n",
    "marks = 89 # YOU CAN CHANGE THE NUMBER ACCORDING TO TEST MARKS\n",
    "if marks >= 90:\n",
    "    print('GRADE:A')\n",
    "elif marks >= 70:\n",
    "    print('GRADE:B')\n",
    "elif marks >= 50:\n",
    "    print('GRADE:C')\n",
    "else:\n",
    "    print('GRADE:F')"
   ]
  }
 ],
 "metadata": {
  "kernelspec": {
   "display_name": "Python [conda env:base] *",
   "language": "python",
   "name": "conda-base-py"
  },
  "language_info": {
   "codemirror_mode": {
    "name": "ipython",
    "version": 3
   },
   "file_extension": ".py",
   "mimetype": "text/x-python",
   "name": "python",
   "nbconvert_exporter": "python",
   "pygments_lexer": "ipython3",
   "version": "3.13.5"
  }
 },
 "nbformat": 4,
 "nbformat_minor": 5
}
